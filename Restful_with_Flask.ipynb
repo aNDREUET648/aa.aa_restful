{
 "cells": [
  {
   "cell_type": "markdown",
   "id": "598b9efa",
   "metadata": {},
   "source": [
    "# <span style=\"color:blue\">FLASK</span>"
   ]
  },
  {
   "cell_type": "markdown",
   "id": "26084331",
   "metadata": {},
   "source": [
    "Flask is a lightweight Web Server Gateway Interface application framework\n",
    "\n",
    "https://flask.palletsprojects.com/en/2.0.x/\n",
    "\n",
    "- Flask can offer resources via HTTP urls (routes)."
   ]
  },
  {
   "cell_type": "markdown",
   "id": "1636d61f",
   "metadata": {},
   "source": [
    "Install flask library in a virtual environment:\n",
    "```bash\n",
    "(myvenv)% python -m pip install flask\n",
    "```"
   ]
  },
  {
   "cell_type": "markdown",
   "id": "1ec6b003",
   "metadata": {},
   "source": [
    "## First example"
   ]
  },
  {
   "cell_type": "markdown",
   "id": "71158482",
   "metadata": {},
   "source": [
    "Previous py file saved at path:"
   ]
  },
  {
   "cell_type": "code",
   "execution_count": 6,
   "id": "2e030170",
   "metadata": {},
   "outputs": [
    {
     "name": "stdout",
     "output_type": "stream",
     "text": [
      "Overwriting cell1.py\n"
     ]
    }
   ],
   "source": [
    "%%writefile cell1.py\n",
    "\n",
    "port = 9999\n",
    "from flask import Flask, escape, request\n",
    "\n",
    "app = Flask(__name__)\n",
    "\n",
    "@app.route('/')                           # wrappers - a function englobe another function: def route(function)\n",
    "def hello():\n",
    "    name = request.args.get(\"name\", \"World\")\n",
    "    return \"Hello %s!\"%name\n",
    "\n",
    "if __name__ == '__main__':                # double_underscore, curso avanzado\n",
    "    app.run(port=port, debug=True)"
   ]
  },
  {
   "cell_type": "code",
   "execution_count": 7,
   "id": "18de13d6",
   "metadata": {},
   "outputs": [
    {
     "data": {
      "text/plain": [
       "['/home/andreuet/arquitectures/restful']"
      ]
     },
     "execution_count": 7,
     "metadata": {},
     "output_type": "execute_result"
    }
   ],
   "source": [
    "%%system\n",
    "pwd"
   ]
  },
  {
   "cell_type": "markdown",
   "id": "6c576585",
   "metadata": {},
   "source": [
    "You can run in the terminal, the previous script (in that path):\n",
    "```bash\n",
    " \n",
    "```"
   ]
  },
  {
   "cell_type": "markdown",
   "id": "9c65b345",
   "metadata": {},
   "source": [
    "Open a browser to get the data from the URL or use curl o wget"
   ]
  },
  {
   "cell_type": "code",
   "execution_count": 8,
   "id": "c0e22785",
   "metadata": {},
   "outputs": [
    {
     "name": "stdout",
     "output_type": "stream",
     "text": [
      "<!DOCTYPE HTML PUBLIC \"-//W3C//DTD HTML 3.2 Final//EN\">\n",
      "<title>404 Not Found</title>\n",
      "<h1>Not Found</h1>\n",
      "<p>The requested URL was not found on the server. If you entered the URL manually please check your spelling and try again.</p>\n"
     ]
    },
    {
     "name": "stderr",
     "output_type": "stream",
     "text": [
      "  % Total    % Received % Xferd  Average Speed   Time    Time     Time  Current\n",
      "                                 Dload  Upload   Total   Spent    Left  Speed\n",
      "\r",
      "  0     0    0     0    0     0      0      0 --:--:-- --:--:-- --:--:--     0\r",
      "100   232  100   232    0     0   226k      0 --:--:-- --:--:-- --:--:--  226k\n"
     ]
    }
   ],
   "source": [
    "%%bash\n",
    "curl http://localhost:9999/"
   ]
  },
  {
   "cell_type": "markdown",
   "id": "40d44c36",
   "metadata": {},
   "source": [
    "**Note**: you can free the port killing the process\n",
    "```bash\n",
    "sudo kill -9 $(sudo lsof -t -i:9999)\n",
    "```"
   ]
  },
  {
   "cell_type": "markdown",
   "id": "b9733195",
   "metadata": {},
   "source": [
    "## With Restful library we can expose services\n",
    "https://dosideas.com/noticias/java/314-introduccion-a-los-servicios-web-restful\n",
    "\n",
    "**Note** we need to install another library from flask\n",
    "\n",
    "```bash\n",
    "(myenv)$ pip install flask-restful\n",
    "```"
   ]
  },
  {
   "cell_type": "markdown",
   "id": "63b52737",
   "metadata": {},
   "source": [
    "```python\n",
    "#Basic skeleton of a restful api\n",
    "\n",
    "from flask import Flask, escape, request\n",
    "from flask_restful import Resource, Api\n",
    "\n",
    "app = Flask(__name__)\n",
    "api = Api(app)\n",
    "\n",
    "# Resources\n",
    "# ...\n",
    "# Routes\n",
    "# ...\n",
    "\n",
    "if __name__ == '__main__':\n",
    "    app.run(port='9999', debug=True)\n",
    "```"
   ]
  },
  {
   "cell_type": "markdown",
   "id": "d292b146",
   "metadata": {},
   "source": [
    "The **resources** are clases with get and post functions \n",
    "\n",
    "```python\n",
    "class Book(Resource):  # Class definition, extends Resource.class\n",
    "  def get(self):       # self is the global variable of the class\n",
    "    return {\"book1\":\"HolaMundo\"}\n",
    "```\n",
    "\n",
    "The **routes** are the path to the resource access \n",
    "\n",
    "```python\n",
    "api.add_resource(Book, '/books')\n",
    "```"
   ]
  },
  {
   "cell_type": "code",
   "execution_count": null,
   "id": "c96ff151",
   "metadata": {},
   "outputs": [],
   "source": [
    "%%writefile cell2.py\n",
    "from flask import Flask, escape, request\n",
    "from flask_restful import Resource, Api\n",
    "\n",
    "app = Flask(__name__)\n",
    "api = Api(app)\n",
    "\n",
    "class Book(Resource):    \n",
    "  def get(self):         \n",
    "    return {\"book1\":\"HolaMundo\"}  \n",
    "\n",
    "api.add_resource(Book, '/books') \n",
    "\n",
    "if __name__ == '__main__':\n",
    "    app.run(port='9999', debug=True)"
   ]
  },
  {
   "cell_type": "markdown",
   "id": "9c0b3436",
   "metadata": {},
   "source": [
    "Run cell2.py"
   ]
  },
  {
   "cell_type": "code",
   "execution_count": null,
   "id": "25dc3ea5",
   "metadata": {
    "scrolled": true
   },
   "outputs": [],
   "source": [
    "%%bash\n",
    "curl http://localhost:9999/"
   ]
  },
  {
   "cell_type": "code",
   "execution_count": null,
   "id": "a8f95267",
   "metadata": {},
   "outputs": [],
   "source": [
    "%%bash\n",
    "curl http://localhost:9999/books"
   ]
  },
  {
   "cell_type": "markdown",
   "id": "d46fdb37",
   "metadata": {},
   "source": [
    "## <span style=\"color:red\">A1. What TYPE of variable is it returning? </span> "
   ]
  },
  {
   "cell_type": "markdown",
   "id": "8a1ebac2",
   "metadata": {},
   "source": [
    "## <span style=\"color:blue\">A1.Returns a string dictionary </span>"
   ]
  },
  {
   "cell_type": "markdown",
   "id": "8a604eab",
   "metadata": {},
   "source": []
  },
  {
   "cell_type": "code",
   "execution_count": 4,
   "id": "6ed08706",
   "metadata": {},
   "outputs": [
    {
     "name": "stdout",
     "output_type": "stream",
     "text": [
      "Overwriting cell3.py\n"
     ]
    }
   ],
   "source": [
    "%%writefile cell3.py\n",
    "from flask import Flask, escape, request\n",
    "from flask_restful import Resource, Api\n",
    "from flask_jsonpify import jsonify #install it\n",
    "\n",
    "import random \n",
    "\n",
    "app = Flask(__name__)\n",
    "api = Api(app)\n",
    "\n",
    "class Book(Resource): \n",
    "  def get(self):       \n",
    "    return jsonify(ids=[random.randint(0,100) for i in range(100)])\n",
    "\n",
    "api.add_resource(Book, '/books') \n",
    "\n",
    "if __name__ == '__main__':\n",
    "    app.run(port='9999', debug=True)"
   ]
  },
  {
   "cell_type": "markdown",
   "id": "d0ded3ea",
   "metadata": {},
   "source": [
    "## <span style=\"color:red\">A2. What does the jsonify library? </span> "
   ]
  },
  {
   "cell_type": "markdown",
   "id": "2c5b4995",
   "metadata": {},
   "source": [
    "## <span style=\"color:blue\">A2. jsonify creates an object from Response's Class with the JSON representation of the given arguments. So, cell3.py return a JSON representation </span>"
   ]
  },
  {
   "cell_type": "markdown",
   "id": "b11dbce5",
   "metadata": {},
   "source": [
    "We can use the url path to interact with the rest api\n",
    "```python\n",
    "api.add_resource(GetBook, '/book/<book_id>')\n",
    "```\n"
   ]
  },
  {
   "cell_type": "markdown",
   "id": "f668a101",
   "metadata": {},
   "source": [
    "We can use fake data to popoulate our book collection\n",
    "```python\n",
    "from lorem_text import lorem\n",
    "import random\n",
    "book_collection = [lorem.words(random.randint(4,10)) for i in range(100)]\n",
    "```"
   ]
  },
  {
   "cell_type": "code",
   "execution_count": 1,
   "id": "4337c481",
   "metadata": {},
   "outputs": [
    {
     "ename": "ModuleNotFoundError",
     "evalue": "No module named 'lorem_text'",
     "output_type": "error",
     "traceback": [
      "\u001b[0;31m---------------------------------------------------------------------------\u001b[0m",
      "\u001b[0;31mModuleNotFoundError\u001b[0m                       Traceback (most recent call last)",
      "\u001b[0;32m/tmp/ipykernel_61969/253311250.py\u001b[0m in \u001b[0;36m<module>\u001b[0;34m\u001b[0m\n\u001b[0;32m----> 1\u001b[0;31m \u001b[0;32mfrom\u001b[0m \u001b[0mlorem_text\u001b[0m \u001b[0;32mimport\u001b[0m \u001b[0mlorem\u001b[0m \u001b[0;31m#install it\u001b[0m\u001b[0;34m\u001b[0m\u001b[0;34m\u001b[0m\u001b[0m\n\u001b[0m\u001b[1;32m      2\u001b[0m \u001b[0;32mimport\u001b[0m \u001b[0mrandom\u001b[0m\u001b[0;34m\u001b[0m\u001b[0;34m\u001b[0m\u001b[0m\n\u001b[1;32m      3\u001b[0m \u001b[0mbook_collection\u001b[0m \u001b[0;34m=\u001b[0m \u001b[0;34m[\u001b[0m\u001b[0mlorem\u001b[0m\u001b[0;34m.\u001b[0m\u001b[0mwords\u001b[0m\u001b[0;34m(\u001b[0m\u001b[0mrandom\u001b[0m\u001b[0;34m.\u001b[0m\u001b[0mrandint\u001b[0m\u001b[0;34m(\u001b[0m\u001b[0;36m4\u001b[0m\u001b[0;34m,\u001b[0m\u001b[0;36m10\u001b[0m\u001b[0;34m)\u001b[0m\u001b[0;34m)\u001b[0m \u001b[0;32mfor\u001b[0m \u001b[0mi\u001b[0m \u001b[0;32min\u001b[0m \u001b[0mrange\u001b[0m\u001b[0;34m(\u001b[0m\u001b[0;36m100\u001b[0m\u001b[0;34m)\u001b[0m\u001b[0;34m]\u001b[0m\u001b[0;34m\u001b[0m\u001b[0;34m\u001b[0m\u001b[0m\n\u001b[1;32m      4\u001b[0m \u001b[0mprint\u001b[0m\u001b[0;34m(\u001b[0m\u001b[0mbook_collection\u001b[0m\u001b[0;34m)\u001b[0m\u001b[0;34m\u001b[0m\u001b[0;34m\u001b[0m\u001b[0m\n",
      "\u001b[0;31mModuleNotFoundError\u001b[0m: No module named 'lorem_text'"
     ]
    }
   ],
   "source": [
    "from lorem_text import lorem #install it\n",
    "import random\n",
    "book_collection = [lorem.words(random.randint(4,10)) for i in range(100)]\n",
    "print(book_collection)"
   ]
  },
  {
   "cell_type": "code",
   "execution_count": 2,
   "id": "18543403",
   "metadata": {},
   "outputs": [
    {
     "name": "stdout",
     "output_type": "stream",
     "text": [
      "Writing cell4.py\n"
     ]
    }
   ],
   "source": [
    "%%writefile cell4.py\n",
    "\n",
    "from flask import Flask, escape, request\n",
    "from flask_restful import Resource, Api\n",
    "from flask_jsonpify import jsonify\n",
    "import random \n",
    "from lorem_text import lorem\n",
    "\n",
    "app = Flask(__name__)\n",
    "api = Api(app)\n",
    "\n",
    "book_collection = [lorem.words(random.randint(4,10)) for i in range(100)]\n",
    "\n",
    "class Book(Resource):    #return a list of book-ids\n",
    "  def get(self):       \n",
    "    return jsonify(ids=list(range(len(book_collection))))\n",
    "\n",
    "class GetBook(Resource): #return the title of a book\n",
    "  def get(self,book_id):       \n",
    "    return jsonify(id=book_id,title=book_collection[int(book_id)])\n",
    "\n",
    "api.add_resource(Book, '/books') \n",
    "api.add_resource(GetBook, '/book/<book_id>') \n",
    "\n",
    "if __name__ == '__main__':\n",
    "    app.run(port='9999', debug=True)"
   ]
  },
  {
   "cell_type": "code",
   "execution_count": null,
   "id": "caadcd88",
   "metadata": {},
   "outputs": [],
   "source": [
    "%%bash\n",
    "curl http://localhost:9999/books"
   ]
  },
  {
   "cell_type": "code",
   "execution_count": null,
   "id": "29e1f7f3",
   "metadata": {},
   "outputs": [],
   "source": [
    "%%bash\n",
    "curl http://localhost:9999/book/7"
   ]
  },
  {
   "cell_type": "markdown",
   "id": "2d69509f",
   "metadata": {},
   "source": [
    "## Second tests\n",
    "Put methods"
   ]
  },
  {
   "cell_type": "code",
   "execution_count": 3,
   "id": "1e850141",
   "metadata": {},
   "outputs": [
    {
     "name": "stdout",
     "output_type": "stream",
     "text": [
      "Writing cell5.py\n"
     ]
    }
   ],
   "source": [
    "%%writefile cell5.py\n",
    "\n",
    "from flask import Flask, escape, request\n",
    "from flask_restful import Resource, Api\n",
    "from flask_jsonpify import jsonify\n",
    "\n",
    "import random \n",
    "from lorem_text import lorem\n",
    "\n",
    "app = Flask(__name__)\n",
    "api = Api(app)\n",
    "\n",
    "book_collection = [lorem.words(random.randint(4,10)) for i in range(100)]\n",
    "\n",
    "class Books(Resource): \n",
    "  def get(self):       \n",
    "    return jsonify(ids=list(range(len(book_collection))))\n",
    "\n",
    "class Book(Resource): \n",
    "  def get(self,book_id):       \n",
    "    return jsonify(book_collection[int(book_id)])\n",
    "\n",
    "  def post(self): #POST Method\n",
    "    json_data = request.get_json(force=True) #obtain the data forcing JSON-type\n",
    "    booktitle = json_data[\"title\"]           #get the title key\n",
    "    book_collection.append(booktitle)        #add the title in the collection\n",
    "    new_id = len(book_collection)            #generate a new ID\n",
    "    return jsonify(id=new_id)                #return the ID\n",
    "\n",
    "api.add_resource(Books, '/books') \n",
    "\n",
    "api.add_resource(Book, '/book/<book_id>','/addbook/') #BOTH METHODS.\n",
    "\n",
    "if __name__ == '__main__':\n",
    "    app.run(port='9999', debug=True)"
   ]
  },
  {
   "cell_type": "markdown",
   "id": "dcca83d2",
   "metadata": {},
   "source": [
    "To **generate a POST request** we have two basic options: REST debug extensions for web browers ie. YARC. or use CURL command:\n",
    "```bash\n",
    "curl -v -X POST http://localhost:9999/addbook/ -d '{\"title\":\"Hello world book\"}'\n",
    "```"
   ]
  },
  {
   "cell_type": "markdown",
   "id": "2a1daf51",
   "metadata": {},
   "source": [
    "## <span style=\"color:red\">A3. Activity </span> \n",
    "Design an API how manages a list of TODO tasks. The requirements are:\n",
    "\n",
    "\n",
    "- Manage multiples lists. Lists by category. I.e. Shopping, Work, House,... \n",
    "- Get a list of all TODO items by default from all categories or specifing one category\n",
    "- Add new item in a specific list\n",
    "- Remove one item from a specific list\n"
   ]
  },
  {
   "cell_type": "markdown",
   "id": "0125fece",
   "metadata": {},
   "source": [
    "## <span style=\"color:red\">A4. Activity </span> \n",
    "What are the differences between an RPC and a Restful service?"
   ]
  },
  {
   "cell_type": "markdown",
   "id": "42fdadea",
   "metadata": {},
   "source": [
    "## All deliverables in the same GitHub project. Answers in one readme file of the main project. The main project is the Activity A3."
   ]
  },
  {
   "cell_type": "code",
   "execution_count": null,
   "id": "e4f6d7a0",
   "metadata": {},
   "outputs": [],
   "source": []
  }
 ],
 "metadata": {
  "celltoolbar": "Raw Cell Format",
  "kernelspec": {
   "display_name": "Python 3 (ipykernel)",
   "language": "python",
   "name": "python3"
  },
  "language_info": {
   "codemirror_mode": {
    "name": "ipython",
    "version": 3
   },
   "file_extension": ".py",
   "mimetype": "text/x-python",
   "name": "python",
   "nbconvert_exporter": "python",
   "pygments_lexer": "ipython3",
   "version": "3.8.10"
  }
 },
 "nbformat": 4,
 "nbformat_minor": 5
}
